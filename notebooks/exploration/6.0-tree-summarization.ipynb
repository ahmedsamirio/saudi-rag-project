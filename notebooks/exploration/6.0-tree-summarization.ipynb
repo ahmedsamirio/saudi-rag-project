{
 "cells": [
  {
   "cell_type": "code",
   "execution_count": 2,
   "metadata": {},
   "outputs": [],
   "source": [
    "%load_ext autoreload\n",
    "%autoreload 2"
   ]
  },
  {
   "cell_type": "code",
   "execution_count": 3,
   "metadata": {},
   "outputs": [],
   "source": [
    "import sys\n",
    "\n",
    "sys.path.append('../../')"
   ]
  },
  {
   "cell_type": "code",
   "execution_count": 25,
   "metadata": {},
   "outputs": [],
   "source": [
    "from src.indexing import get_multivector_retriever, get_parent_child_splits\n",
    "from src.generation import ROUTER_SYSTEM_PROMPT, ROUTER_PROMPT, QA_SYSTEM_PROMPT, QA_PROMPT, SUMMARY_SYSTEM_PROMPT, SUMMARY_PROMPT, FINAL_SUMMARY_SYSTEM_PROMPT, FINAL_SUMMARY_PROMPT, LLAMA_PROMPT_TEMPLATE, MIXTRAL_PROMPT_TEMPLATE\n",
    "from src.generation import get_model, format_docs, get_rag_chain, get_router_chain, summarize\n",
    "from langchain_core.documents import Document\n",
    "from langchain_core.prompts import PromptTemplate\n",
    "\n",
    "\n",
    "from src.ingestion import load_pdf\n",
    "\n",
    "import os\n",
    "import chromadb\n",
    "import uuid\n",
    "import pickle"
   ]
  },
  {
   "cell_type": "code",
   "execution_count": 6,
   "metadata": {},
   "outputs": [],
   "source": [
    "from langchain_text_splitters import RecursiveCharacterTextSplitter\n",
    "from langchain_core.output_parsers import StrOutputParser\n",
    "from langchain_core.runnables import RunnablePassthrough\n",
    "\n",
    "from tqdm import tqdm\n",
    "\n",
    "import pandas as pd"
   ]
  },
  {
   "cell_type": "code",
   "execution_count": 7,
   "metadata": {},
   "outputs": [
    {
     "name": "stderr",
     "output_type": "stream",
     "text": [
      "<>:1: SyntaxWarning: invalid escape sequence '\\A'\n",
      "<>:1: SyntaxWarning: invalid escape sequence '\\A'\n",
      "C:\\Users\\lenovo\\AppData\\Local\\Temp\\ipykernel_12020\\2388391618.py:1: SyntaxWarning: invalid escape sequence '\\A'\n",
      "  DATA_PATH = 'D:\\Ahmed\\saudi-rag-project\\data'\n"
     ]
    }
   ],
   "source": [
    "DATA_PATH = 'D:\\Ahmed\\saudi-rag-project\\data'\n",
    "RAW_DOCS_PATH = os.path.join(DATA_PATH, \"raw\")\n",
    "CHROMA_PATH = os.path.join(DATA_PATH, \"chroma\")\n",
    "INTERIM_DATA_PATH = os.path.join(DATA_PATH, \"interim\")\n",
    "\n",
    "EMBEDDING_MODEL_NAMES = [\n",
    "    \"intfloat/multilingual-e5-small\", \n",
    "    \"intfloat/multilingual-e5-base\", \n",
    "    \"text-embedding-3-small\", \n",
    "    \"text-embedding-3-large\",\n",
    "    \"text-embedding-ada-002\"\n",
    " ]\n",
    " \n",
    "MODEL_NAMES = [\"meta-llama/Llama-3-8b-chat-hf\", \"meta-llama/Llama-3-70b-chat-hf\", \"mistralai/Mixtral-8x22B-Instruct-v0.1\"]"
   ]
  },
  {
   "cell_type": "code",
   "execution_count": 8,
   "metadata": {},
   "outputs": [],
   "source": [
    "persistent_client = chromadb.PersistentClient(path=CHROMA_PATH)"
   ]
  },
  {
   "cell_type": "code",
   "execution_count": 36,
   "metadata": {},
   "outputs": [],
   "source": [
    "# Load summary retriever\n",
    "embedding_model = \"text-embedding-3-small\"\n",
    "collection_name = 'PS_ALL_text_embedding_3_small'\n",
    "retriever = get_multivector_retriever(persistent_client, embedding_model, collection_name, DATA_PATH, k=5)"
   ]
  },
  {
   "cell_type": "code",
   "execution_count": 56,
   "metadata": {},
   "outputs": [],
   "source": [
    "MODEL_NAME = MODEL_NAMES[1]"
   ]
  },
  {
   "cell_type": "code",
   "execution_count": 57,
   "metadata": {},
   "outputs": [],
   "source": [
    "if \"mistral\" in MODEL_NAME:\n",
    "    MODEL_TEMPLATE = MIXTRAL_PROMPT_TEMPLATE\n",
    "\n",
    "elif \"llama\" in MODEL_NAME:\n",
    "    MODEL_TEMPLATE = LLAMA_PROMPT_TEMPLATE"
   ]
  },
  {
   "cell_type": "code",
   "execution_count": 105,
   "metadata": {},
   "outputs": [],
   "source": [
    "SUMMARY_SYSTEM_PROMPT = \"\"\"You are an assistant for summarization and question answering tasks. \\\n",
    "Use the following context to write a comprehensive summary to fullfill the user query. \\\n",
    "If the context doesn't contain any relevant information, just say you don't know. \\\n",
    "Answer in Arabic only.\"\"\"\n",
    "\n",
    "FINAL_SUMMARY_SYSTEM_PROMPT = \"\"\"You are an expert Arabic assistant for question-answering tasks. \\\n",
    "Use the following summaries to create a comprehensive answer to the provided query. \\\n",
    "Answer in Arabic only.\"\"\""
   ]
  },
  {
   "cell_type": "code",
   "execution_count": 106,
   "metadata": {},
   "outputs": [],
   "source": [
    "router_prompt_template = PromptTemplate.from_template(MODEL_TEMPLATE.format(system_prompt=ROUTER_SYSTEM_PROMPT, user_message=ROUTER_PROMPT))\n",
    "qa_prompt_template = PromptTemplate.from_template(MODEL_TEMPLATE.format(system_prompt=QA_SYSTEM_PROMPT, user_message=QA_PROMPT))\n",
    "summarization_prompt_template = PromptTemplate.from_template(MODEL_TEMPLATE.format(system_prompt=SUMMARY_SYSTEM_PROMPT, user_message=SUMMARY_PROMPT))\n",
    "final_summary_template = PromptTemplate.from_template(MODEL_TEMPLATE.format(system_prompt=FINAL_SUMMARY_SYSTEM_PROMPT, user_message=FINAL_SUMMARY_PROMPT))\n",
    "\n",
    "llm = get_model(MODEL_NAME)\n",
    "\n",
    "router_chain = get_router_chain(llm, router_prompt_template)\n",
    "summarization_chain = get_rag_chain(llm, retriever, format_docs, summarization_prompt_template)"
   ]
  },
  {
   "cell_type": "code",
   "execution_count": 107,
   "metadata": {},
   "outputs": [],
   "source": [
    "question = 'اعطني ملخص عن ابرز الأخبار للمجموعة'"
   ]
  },
  {
   "cell_type": "code",
   "execution_count": 108,
   "metadata": {},
   "outputs": [
    {
     "name": "stdout",
     "output_type": "stream",
     "text": [
      "\n",
      "\n",
      "SUMMARY\n"
     ]
    }
   ],
   "source": [
    "print(router_chain.invoke(question))"
   ]
  },
  {
   "cell_type": "code",
   "execution_count": 109,
   "metadata": {},
   "outputs": [],
   "source": [
    "retrieved_docs = retriever.invoke(question)"
   ]
  },
  {
   "cell_type": "code",
   "execution_count": 110,
   "metadata": {},
   "outputs": [
    {
     "data": {
      "text/plain": [
       "[Document(page_content='أﺑﺮز ﻣﻼﻣﺢ أداء اﻷﻋﻤﺎل\\nواﺻﻠﺖ ﻣﺠﻤﻮﻋﺔ ﺗﺪاول اﻟﺴﻌﻮدﻳﺔ رﻳﺎدﺗﻬﺎ ﻣﻦ ﺧﻼل اﺳﺘﻤﺮاﻫﺎ ﻓﻲ ﺗﻌﺰﻳﺰ اﻟﺴﻮق اﻟﻤﺎﻟﻴﺔ اﻟﺴﻌﻮدﻳﺔ و إﻃﻼق ﻋﺪد ﻣﻦ\\nاﻟﻤﺒﺎدرات وذﻟﻚ ﺑﻤﺎ ﻳﺘﻤﺎﺷﻰ ﻣﻊ اﺳﺘﺮاﺗﻴﺠﻴﺘﻬﺎ ﻟﺘﺴﺮﻳﻊ اﻟﻨﻤﻮ وﺗﻌﺰﻳﺰ اﻷداء اﻟﺘﺸﻐﻴﻠﻲ واﻟﻤﺎﻟﻲ وﺗﻨﻮﻳﻊ اﻟﺨﺪﻣﺎت ذات اﻷﺛﺮ\\nاﻹﻳﺠﺎﺑﻲ ﻋﺒﺮ ﺗﻮﻓﻴﺮ اﻟﺤﻠﻮل اﻟﻤﺒﺘﻜﺮة واﻟﺘﻘﻨﻴﺎت وﺗﻮﺳﻴﻊ ﻗﺎﻋﺪة اﻟﻌﻤﻼء اﻟﻤﺤﻠﻴﺔ واﻹﻗﻠﻴﻤﻴﺔ واﻟﻌﺎﻟﻤﻴﺔ.\\n• ﻣﺠﻤﻮﻋﺔ ﺗﺪاول اﻟﺴﻌﻮدﻳﺔ وﺻﻨﺪوق اﻻﺳﺘﺜﻤﺎرات اﻟﻌﺎﻣﺔ ﻳﻌﻠﻨﺎن ﻋﻦ ﺗﺄﺳﻴﺲ ﺷﺮﻛﺔ ﺳﻮق اﻟﻜﺮﺑﻮن اﻟﻄﻮﻋﻲ\\nاﻻﻗﻠﻴﻤﻴﺔ واﻟﺘﻲ ﺗﻬﺪف إﻟﻰ دﻋﻢ اﻟﺸﺮﻛﺎت واﻟﻘﻄﺎﻋﺎت ﻓﻲ اﻟﻤﻨﻄﻘﺔ ﻟﺘﻤﻜﻴﻨﻬﺎ ﻣﻦ اﻟﻮﺻﻮل إﻟﻰ اﻟﺤﻴﺎد اﻟﺼﻔﺮي\\nﺑﺎﻹﺿﺎﻓﺔ إﻟﻰ ﺿﻤﺎن ﺷﺮاء أرﺻﺪة اﻟﻜﺮﺑﻮن ﻟﺘﺨﻔﻴﺾ اﻻﻧﺒﻌﺎﺛﺎت اﻟﻜﺮﺑﻮﻧﻴﺔ ﻓﻲ ﺳﻼﺳﻞ اﻟﻘﻴﻤﺔ .\\n• اﻛﺘﻤﺎل أول إدراج ﻣﺰدوج وﻣﺘﺰاﻣﻦ ﺑﻴﻦ ﺗﺪاول اﻟﺴﻌﻮدﻳﺔ وﺳﻮق أﺑﻮﻇﺒﻲ ﻟﻸوراق اﻟﻤﺎﻟﻴﺔ .\\n• ﺗﻮﻗﻴﻊ \"واﻣﺾ\" إﺣﺪى اﻟﺸﺮﻛﺎت اﻟﺘﺎﺑﻌﺔ ﻟﻤﺠﻤﻮﻋﺔ ﺗﺪاول اﻟﺴﻌﻮدﻳﺔ اﺗﻔﺎﻗﻴﺔ ﺑﻴﻊ وﺷﺮاء ﻣﻊ ﺷﺮﻛﺔ \"اﻟﻤﺒﺎدرات اﻟﺜﺎﻧﻴﺔ\\nﻟﻼﺳﺘﺜﻤﺎر\" ﻟﻼﺳﺘﺤﻮاذ ﻋﻠﻰ %51 ﻣﻦ رأس اﻟﻤﺎل اﻟﻤﺼﺪر ﻟﺸﺮﻛﺔ ﺷﺒﻜﺔ ﻣﺒﺎﺷﺮ اﻟﻤﺎﻟﻴﺔ \"داﻳﺮﻛﺖ إف إ ن\".\\n• إﻃﻼق إﻃﺎر ﻋﻤﻞ ﺻﺎﻧﻊ اﻟﺴﻮق ﻷﺳﻮاق اﻷﺳﻬﻢ واﻟﻤﺸﺘﻘﺎت اﻟﻤﺎﻟﻴﺔ ﻛﺠﺰء ﻣﻦ ﺟﻬﻮد ﺗﺪاول اﻟﺴﻌﻮدﻳﺔ ﻟﻀﻤﺎن ﺗﻮﻓﺮ\\nاﻟﺴﻴﻮﻟﺔ وزﻳﺎدة ﻛﻔﺎءة ﺗﺤﺪﻳﺪ اﻷﺳﻌﺎر ﺗﻤﺎﺷﻴﺎ ﻣﻊ دﻋﻢ ﻧﻤﻮ اﻟﺴﻮق اﻟﻤﺎﻟﻴﺔ اﻟﺴﻌﻮدﻳﺔ ﺗﺤﻘﻴﻘﺎ ﻟﻤﺴﺘﻬﺪﻓﺎت رؤﻳﺔ\\nاﻟﻤﻤﻠﻜﺔ .2030\\n• إﻃﻼق ﺷﺮﻛﺔ ﻣﺮﻛﺰ ﻣﻘﺎﺻﺔ اﻷوراق اﻟﻤﺎﻟﻴﺔ \"ﻣﻘﺎﺻﺔ\" ﺧﺪﻣﺔ ﻣﻘﺎﺻﺔ اﺗﻔﺎﻗﻴﺎت إﻋﺎدة اﻟﺸﺮاء .', metadata={'source': 'Press Release - 2022 Results (Stock Market)', 'file_path': 'D:\\\\Ahmed\\\\saudi-rag-project\\\\data\\\\raw\\\\Press Release - 2022 Results (Stock Market).pdf'}),\n",
       " Document(page_content='اﻟﻌﻨﻮان: 6897 ﻃﺮﻳﻖ اﻟﻤﻠﻚ ﻓﻬﺪ - اﻟﻌﻠﻴﺎ اﻟﺮﻳﺎض\\nاﻟﻤﻤﻠﻜﺔ اﻟﻌﺮﺑﻴﺔ اﻟﺴﻌﻮدﻳﺔ\\nwww.tadawulgroup.sa\\nإﺧﻼء ﻣﺴﺆوﻟﻴﺔ\\nاﻟﻤﻌﻠﻮﻣﺎت اﻟﻮاردة ﻓﻲ ﻫﺬه اﻟﻮﺛﻴﻘﺔ ﻫﻲ ﻷﻏﺮاض اﻻﺳﺘﺨﺪام اﻟﻌﺎم ﻓﻘﻂ وﻟﻢ ﻳﺘﻢ اﻟﺘﺤﻘﻖ ﻣﻨﻬﺎ ﺑﺸﻜﻞ ﻣﺴﺘﻘﻞ ﻛﻤﺎ أﻧﻬﺎ ﻻ ﺗﺸﻜﻞ أو ﺗﻌﺘﺒﺮ ﺟﺰءا ﻣﻦ أي دﻋﻮة أو ﺣﺎﻓﺰ ﻟﻠﺪﺧﻮل\\nﻓﻲ أي ﻧﺸﺎط اﺳﺘﺜﻤﺎري وﻻ ﺗﻤﺜﻞ ﻋﺮﺿﺎ أو دﻋﻮة أو ﺗﻮﺻﻴﺔ ﻟﻠﺸﺮاء أو اﻻﻛﺘﺘﺎب ﻓﻲ أي أوراق ﻣﺎﻟﻴﺔ ﻓﻲ اﻟﻤﻤﻠﻜﺔ وﻻ ﺗﻤﺜﻞ ﻋﺮﺿﺎ أو دﻋﻮة أو ﺗﻮﺻﻴﺔ ﻓﻴﻤﺎ ﻳﺘﻌﻠﻖ ﺑﺸﺮاء أو\\nﺣﻴﺎزة أو ﺑﻴﻊ أي أوراق ﻣﺎﻟﻴﺔ ﺧﺎﺻﺔ \"ﺑﺎﻟﻤﺠﻤﻮﻋﺔ.\"\\nوﻻ ﺗﻘﺪم اﻟﻤﺠﻤﻮﻋﺔ أي ﺿﻤﺎن ﺻﺮﻳﺤﺎ أو ﺿﻤﻨﻴﺎ وﻻ ﻳﻨﺒﻐﻲ ﻷي ﺷﺨﺺ أو أي ﻛﻴﺎن ﻗﺎﻧﻮﻧﻲ اﻻﻋﺘﻤﺎد ﻓﻲ أي ﻏﺮض ﻋﻠﻰ اﻟﻤﻌﻠﻮﻣﺎت واﻵراء اﻟ ﻮاردة ﻓﻲ ﻫﺬه اﻟﻮﺛﻴﻘﺔ أو\\nاﻻﻋﺘﻤﺎد ﻋﻠﻰ وﺿﻮﺣﻬﺎ أو دﻗﺘﻬﺎ أو اﻛﺘﻤﺎﻟﻬﺎ أو ﺻﺤﺘﻬﺎ.\\nﻳﺠﻮز أن ﺗﺸﺘﻤﻞ ﻫﺬه اﻟﻮﺛﻴﻘﺔ ﻋﻠﻰ ﺑﻴﺎﻧﺎت ﺗﻤﺜﻞ \"ﺑﻴﺎﻧﺎت ﺗﻄﻠﻌﻴﺔ\" أو ﻳﻤﻜﻦ اﻋﺘﺒﺎرﻫﺎ ﻛﺬﻟﻚ ﻓﻴﻤﺎ ﻳﺘﻌﻠﻖ ﺑﺎﻟﻤﺮﻛﺰ اﻟﻤﺎﻟﻲ ﻟﻠﺸﺮﻛﺔ وﻧﺘﺎﺋﺞ اﻟﻌﻤﻠﻴﺎت واﻷﻋﻤﺎل. إن اﻟﻤﻌﻠﻮﻣﺎت\\nاﻟﻤﺘﻌﻠﻘﺔ ﺑﺨﻄﻂ اﻟﺸﺮﻛﺔ وﻧﻮاﻳﺎﻫﺎ وﺗﻮﻗﻌﺎﺗﻬﺎ واﻓﺘﺮاﺿﺎﺗﻬﺎ وأﻫﺪاﻓﻬﺎ وﻣﻌﺘﻘﺪاﺗﻬﺎ ﻫﻲ ﻷﻏﺮاض اﻟﺘﻌﺮﻳﻒ ﻓﻘﻂ وﻻ ﺗﺸﻜﻞ أو ﺗﻌﺘﺒﺮ ﺟﺰءا ﻣﻦ أي دﻋﻮة أو ﺣﺎﻓﺰ ﻟﻠﺪﺧﻮل ﻓﻲ أي\\nﻧﺸﺎط اﺳﺘﺜﻤﺎري وﻻ ﺗﻤﺜﻞ ﻋﺮﺿﺎ أو دﻋﻮة أو ﺗﻮﺻﻴﺔ ﻟﻠﺸﺮاء أو اﻻﻛﺘﺘﺎب ﻓﻲ أي أوراق ﻣﺎﻟﻴﺔ ﻓﻲ اﻟﻤﻤﻠﻜﺔ وﻻ ﺗﻤﺜﻞ ﻋﺮﺿﺎ أو دﻋﻮة أو ﺗﻮﺻﻴﺔ ﻓﻴﻤﺎ ﻳﺘﻌﻠﻖ ﺑﺸﺮاء أو ﺣﻴﺎزة أو\\nﺑﻴﻊ أي أوراق ﻣﺎﻟﻴﺔ ﺧﺎﺻﺔ \"ﺑﺎﻟﻤﺠﻤﻮﻋﺔ\".', metadata={'source': 'Press Release - 2022 Results (Stock Market)', 'file_path': 'D:\\\\Ahmed\\\\saudi-rag-project\\\\data\\\\raw\\\\Press Release - 2022 Results (Stock Market).pdf'}),\n",
       " Document(page_content='ﺑﻴﺎن أرﺑﺎح اﻟﻨﺘﺎﺋﺞ اﻟﻤﺎﻟﻴﺔ اﻟﺴﻨﻮﻳﺔ\\nﻟﻠﻌﺎم م2022', metadata={'source': 'Press Release - 2022 Results (Stock Market)', 'file_path': 'D:\\\\Ahmed\\\\saudi-rag-project\\\\data\\\\raw\\\\Press Release - 2022 Results (Stock Market).pdf'}),\n",
       " Document(page_content='الإضافي لك ل من الضمان الاجتماعي وحساب المواطن وبرنامج دعم صغار مربي الماشية\\nبالإضافة إلى دعم المخزونات الاستراتيجية للمواد الأساسية والتأكد من توفرها وذلك\\nلمواجهة الضغوط التضخمية العالمية وتأثر سالسل الإمداد بسبب التوترات الجيوسياسية التي\\nشهدها العام المالي .م2022 كما ارتفعت النفقات الرأسمالية بحوالي %56.3 مقارنة بالميزانية\\nالمعتمدة؛ وذلك نتيجة التعجيل في تنفيذ بعض المشاريع الاستراتيجية والرأسمالية التي تأثرت\\nخلال فترة الجائحة والتسريع في تنفيذ برامج الرؤية والمشاريع الكبرى ذات العائد الاقتصادي\\nوالاجتماعي المرتفع.', metadata={'source': 'Actual Budget Report 2022', 'file_path': 'D:\\\\Ahmed\\\\saudi-rag-project\\\\data\\\\raw\\\\Actual Budget Report 2022.pdf'})]"
      ]
     },
     "execution_count": 110,
     "metadata": {},
     "output_type": "execute_result"
    }
   ],
   "source": [
    "retrieved_docs"
   ]
  },
  {
   "cell_type": "code",
   "execution_count": 111,
   "metadata": {},
   "outputs": [
    {
     "data": {
      "text/plain": [
       "['اعطني ملخص عن ابرز الأخبار للمجموعة',\n",
       " 'اعطني ملخص عن ابرز الأخبار للمجموعة',\n",
       " 'اعطني ملخص عن ابرز الأخبار للمجموعة',\n",
       " 'اعطني ملخص عن ابرز الأخبار للمجموعة']"
      ]
     },
     "execution_count": 111,
     "metadata": {},
     "output_type": "execute_result"
    }
   ],
   "source": [
    "[question]*len(retrieved_docs)"
   ]
  },
  {
   "cell_type": "code",
   "execution_count": 112,
   "metadata": {},
   "outputs": [],
   "source": [
    "summary_answers = summarization_chain.batch({\"question\": [question]*len(retrieved_docs),\n",
    "\"context\": [d.page_content for d in retrieved_docs]})"
   ]
  },
  {
   "cell_type": "code",
   "execution_count": 113,
   "metadata": {},
   "outputs": [
    {
     "name": "stdout",
     "output_type": "stream",
     "text": [
      "\n",
      "\n",
      "ﺑﻴﺎن أرﺑﺎح اﻟﻨﺘﺎﺋﺞ اﻟﻤﺎﻟﻴﺔ اﻟﺴﻨﻮﻳﺔ ﻟﻠﻌﺎم م2022\n",
      "\n",
      "أﺑﺮز ﻣﻼﻣﺢ أداء اﻟﺴﻮق اﻟﻤﺎﻟﻴﺔ اﻟﺴﻌﻮدﻳﺔ ﻓﻲ اﻟﻌﺎم م2022، ﻭﺗﺤﻘﻴﻖ اﻟﺴﻮق اﻟﻤﺎﻟﻴﺔ اﻟﺴﻌﻮدﻳﺔ اﻟﻤﺮﻛﺰ اﻟﺘﺎﺳﻊ ﻋﺎﻟﻤﻴﺎ ﻛﺄﻛﺒﺮ ﺳﻮق ﻣﺎﻟﻴﺔ ﻣﻦ ﻣﻦ ﺣﻴﺚ اﻟﻘﻴﻤﺔ اﻟﺴﻮﻗﻴﺔ.\n",
      "\n",
      "وﺷﻬﺪت ﺗﺪاول اﻟﺴﻌﻮدﻳﺔ ﻓﻲ اﻟﻌﺎم 2022 إﻧﺠﺎزا ﻗﻴﺎﺳﻴﺎ ﺑﺘﺴﺠﻴﻞ أﻛﺒﺮ ﻋﺪد ﻣﻦ ﻋﻤﻠﻴﺎت اﻹدراج ﻓﻲ ﻣﻨﻄﻘﺔ اﻟﺸﺮق اﻷوﺳﻂ، ﺑﻠﻐﺖ ﻗﻴﻤﺔ اﻟﻤﺘﻮﺳﻂ اﻟﻴﻮﻣﻲ ﻟﻘﻴﻤﺔ اﻷﺳﻬﻢ اﻟﻤﺘﺪاوﻟﺔ ﻓﻲ اﻟﺴﻮق اﻟﺮﺋﻴﺴﻴﺔ وﻧﻤﻮ - اﻟﺴﻮق اﻟﻤﻮازﻳﺔ 6.9 ﻣﻠﻴﺎر رﻳﺎل ﺳﻌﻮدي.\n",
      "\n",
      "وأﺭﺗﻔﻊ ﻋﺪد اﻟﺸﺮﻛﺎت اﻟﻤﺪرﺟﺔ ﻓﻲ اﻟﺴﻮق اﻟﺮﺋﻴﺴﻴﺔ وﻧﻤﻮ - اﻟﺴﻮق اﻟﻤﻮازﻳﺔ إﻟﻰ 269 ﺷﺮﻛﺔ ﺑﻨﻬﺎﻳﺔ اﻟﻌﺎم اﻟﻤﺎﻟﻲ م2022، ﻣﻘﺎرﻧﺔ ﺑ 224 ﻓﻲ اﻟﻌﺎم اﻟﻤﺎﻟﻲ 2021 م.\n",
      "\n",
      "وأﺿﺎف اﻟﺤﺼﺎن: \"ﺧﻼل اﻟﻌﺎم م2022 ﻋﻤﻠﺖ اﻟﻤﺠﻤﻮﻋﺔ ﻋﻠﻰ ﺗﻘﺪﻳﻢ ﻋﺪد ﻣﻦ اﻟﺘﺤﺴﻴﻨﺎت ﻋﻠﻰ اﻟﺒﻨﻴﺔ اﻟﺘﺤﺘﻴﺔ ﻟﻠﺴﻮق اﻟﻤﺎﻟﻴﺔ اﻟﺴﻌﻮدﻳﺔ ﺑﻬﺪف اﺳﺘﻀﺎﻓﺔ ﻣﺠﻤﻮﻋﺔ ﻣﺘﻨﻮﻋﺔ ﻣﻦ اﻟﻤﺼﺪرﻳﻦ واﻟﻤﺴﺘﺜﻤﺮﻳﻦ\". \n",
      "\n",
      "\n",
      "\n",
      "ﺍﻟﺨﻼﺻﺔ:\n",
      "\n",
      "ﺗﻢ ﺗﻨﻈﻴﻢ ﻗﻄﺎﻋﺎت أﻋﻤﺎل اﻟﻤﺠﻤﻮﻋﺔ ﻋﻠﻰ أﺳﺎس اﻟﺨﺪﻣﺎت اﻟﻤﻘﺪﻣﺔ ﻓﻲ اﻟﻌﺎم 2022، ﻣﻊ ﻧﺨﻔﺎض إﻳﺮادات ﻗﻄﺎع أﺳﻮاق رأس اﻟﻤﺎل ﺑﻨﺴﺒﺔ 17% ﻋﻠﻰ أﺳﺎس ﺳﻨﻮي، ﻟﺘﺒﻠﻎ 406.5 ﻣﻠﻴﻮن رﻳﺎل ﺳﻌﻮدي. ﻛﻤﺎ ﺗﻢ ﺗﻨﻈﻴﻢ إﻳﺮادات ﺧﺪﻣﺎت اﻟﺘﺪاول ﺑﻨﺴﺒﺔ 23.4% ﻋﻠﻰ أﺳﺎس ﺳﻨﻮي، ﻟﺘﺒﻠﻎ 313.4 ﻣﻠﻴﻮن رﻳﺎل ﺳﻌﻮدي.\n",
      "\n",
      "ﻓﻲ ﻣﺎ ﻳﺘﻌﻠﻖ ﺑﺎﻟﻤﻌﻠﻮﻣﺎت اﻟﻘﻄﺎﻋﻴﺔ، ﺗﻢ ﺗﻨﻈﻴﻢ إﻳﺮادات ﻗﻄﺎع ﺧﺪﻣﺎت اﻟﻤﻌﻠﻮﻣﺎت اﻟﺘﻜﻨﻮﻟﻮﺟﻴﺎ ﺑﻨﺴﺒﺔ 7.4% ﻋﻠﻰ أﺳﺎس ﺳﻨﻮي، ﻟﺘﺒﻠﻎ 100.2 ﻣﻠﻴﻮن رﻳﺎل ﺳﻌﻮدي. ﻛﻤﺎ ﺗﻢ ﺗﻨﻈﻴﻢ إﻳﺮادات ﻗﻄﺎع ﺧﺪﻣﺎت ﻣﺎ ﺑﻌﺪ اﻟﺘﺪاول ﺑﻨﺴﺒﺔ 3.1% ﻋﻠﻰ أﺳﺎس ﺳﻨﻮي، ﻟﺘﺒﻠﻎ 564.7 ﻣﻠﻴﻮن رﻳﺎل ﺳﻌﻮدي.\n",
      "\n",
      "ﻓﻲ ﻣﺎ ﻳﺘﻌﻠﻖ ﺑﺒﻴﺎن أرﺑﺎح اﻟﻨﺘﺎﺋﺞ اﻟﻤﺎﻟﻴﺔ، ﺗﻢ ﺗﻨﻈﻴﻢ إﻳﺮادات اﻟﻤﺠﻤﻮﻋﺔ ﺑﻨﺴﺒﺔ 8.1% ﻋﻠﻰ أﺳﺎس ﺳﻨﻮي، ﻟﺘﺒﻠﻎ 1,071.4 ﻣﻠﻴﻮن رﻳﺎل ﺳﻌﻮدي. ﻛﻤﺎ ﺗﻢ ﺗﻨﻈﻴﻢ ﻣﺼﺎرﻳﻒ اﻟﻤﺠﻤﻮﻋﺔ ﺑﻨﺴﺒﺔ 17.3% ﻋﻠﻰ أﺳﺎس ﺳﻨﻮي، ﻟﺘﺒﻠﻎ 581.1 ﻣﻠﻴﻮن رﻳﺎل ﺳﻌﻮدي. \n",
      "\n"
     ]
    }
   ],
   "source": [
    "for a in summary_answers: print(a, '\\n')"
   ]
  },
  {
   "cell_type": "code",
   "execution_count": 114,
   "metadata": {},
   "outputs": [],
   "source": [
    "final_answer_chain = (\n",
    "    final_summary_template\n",
    "    | llm\n",
    "    | StrOutputParser()\n",
    ")"
   ]
  },
  {
   "cell_type": "code",
   "execution_count": 115,
   "metadata": {},
   "outputs": [],
   "source": [
    "final_answer = final_answer_chain.invoke({\"question\": question, \"context\": \"\\n\\n\".join(summary_answers)})"
   ]
  },
  {
   "cell_type": "code",
   "execution_count": 116,
   "metadata": {},
   "outputs": [
    {
     "name": "stdout",
     "output_type": "stream",
     "text": [
      "\n",
      "\n",
      "ملخص للأخبار الرئيسية للمجموعة:\n",
      "\n",
      "* أعلنت مجموعة تداول السعودية عن إطلاق شركة سوق الكربون الإقليمية والتي تهدف إلى دعم الشركات والقطاعات في المنطقة لتمكينها من الوصول إلى الحياد الصفري.\n",
      "* أتمت المجموعة أول إدراج مزود ومتزامن بين تداول السعودية وسوق أبوظبي للأوراق المالية.\n",
      "* وقعت المجموعة اتفاقية شراكة مع شركة \"المبادرات الثانية للاستثمار\" للاستحواذ على %51 من رأس المال المصدر لشركة شبكة مباشر المالية \"دايركت إف إن\".\n",
      "* أطلقت المجموعة خدمة مقاصة إتفاقية إعادة الشراء.\n",
      "* أعلنت المجموعة عن إطلاق إطار عمل لضمان توفير السيولة وزيادة كفاءة تحديد الأسعار تماشياً مع دعم نمو السوق المالي السعودي وتحقيق رؤية المملكة 2030.\n",
      "* أطلقت المجموعة شركة مركزي مقاصة الأوراق المالية \"مقاصة\" خدمة مقاصة إتفاقية إعادة الشراء.\n"
     ]
    }
   ],
   "source": [
    "print(summarization_chain.invoke(question))"
   ]
  },
  {
   "cell_type": "code",
   "execution_count": 117,
   "metadata": {},
   "outputs": [
    {
     "name": "stdout",
     "output_type": "stream",
     "text": [
      "\n",
      "\n",
      "أبرز الأخبار للمجموعة في عام 2022:\n",
      "\n",
      "أعلنت المجموعة عن نتائجها المالية السنوية لعام 2022، والتي شهدت تحقيق السوق المالية السعودية المركزي أعلى قيمة سوقية في التاريخ. وشهدت التداولات السعودية في عام 2022 إنجازا قياسيا بتسجيل أكبر عدد من عمليات الإدراج في منطقة الشرق الأوسط، بلغت قيمة المتوسط اليومي لقيمة الأسهم المتداولة في السوق الرئيسية ونمو السوق الموازية 6.9 مليار ريال سعودي.\n",
      "\n",
      "وارتفع عدد الشركات المدرجة في السوق الرئيسية ونمو السوق الموازية إلى 269 شركة بنهاية عام 2022، مقارنة بـ 224 في عام 2021.\n",
      "\n",
      "وأضاف الحصان: \"خلال عام 2022 عملت المجموعة على تقديم عدد من التحسينات على البنية التحتية للسوق المالية السعودية بهدف استضافة مجموعة متنوعة من المصدرين والمستثمرين\".\n",
      "\n",
      "وأبرزت الخلاصة أن المجموعة قامت بتنظيم قطاعات أعمالها على أساس الخدمات المقدمة في عام 2022، مع انخفاض إيرادات قطاع أسواق رأس المال بنسبة 17% على أساس سنوي، لتبلغ 406.5 مليون ريال سعودي. كما قامت بتنظيم إيرادات خدمات التداول بنسبة 23.4% على أساس سنوي، لتبلغ 313.4 مليون ريال سعودي.\n",
      "\n",
      "وفيما يتعلق بالمعلومات القطاعية، قامت بتنظيم إيرادات قطاع خدمات المعلومات التكنولوجيا بنسبة 7.4% على أساس سنوي، لتبلغ 100.2 مليون ريال سعودي. كما قامت بتنظيم إيرادات قطاع خدمات ما بعد التداول بنسبة 3.1% على أساس سنوي، لتبلغ 564.7 مليون ريال سعودي.\n",
      "\n",
      "وفيما يتعلق ببيان أرباح النتائج المالية، قامت بتنظيم إيرادات المجموعة بنسبة 8.1% على أساس سنوي، لتبلغ 1,071.4 مليون ريال سعودي. كما قامت بتنظيم مصاريف المجموعة بنسبة 17.3% على أساس سنوي، لتبلغ 581.1 مليون ريال سعودي.\n"
     ]
    }
   ],
   "source": [
    "print(final_answer)"
   ]
  },
  {
   "cell_type": "code",
   "execution_count": null,
   "metadata": {},
   "outputs": [],
   "source": [
    "def summarize(question, retriever, summarization_chain, final_answer_chain, format_doc_fn):\n",
    "    retrieved_docs = retriever.invoke(question)\n",
    "    summary_answers = summarization_chain.batch([d.page_content for d in retrieved_docs])\n",
    "    final_answer = final_answer.invoke({\"question\": question, \"context\": format_doc_fn(summary_answers)})\n",
    "    return final_answer"
   ]
  },
  {
   "cell_type": "code",
   "execution_count": null,
   "metadata": {},
   "outputs": [],
   "source": []
  },
  {
   "cell_type": "code",
   "execution_count": null,
   "metadata": {},
   "outputs": [],
   "source": []
  },
  {
   "cell_type": "code",
   "execution_count": null,
   "metadata": {},
   "outputs": [],
   "source": []
  },
  {
   "cell_type": "code",
   "execution_count": null,
   "metadata": {},
   "outputs": [],
   "source": []
  }
 ],
 "metadata": {
  "kernelspec": {
   "display_name": "saudi-rag-project",
   "language": "python",
   "name": "python3"
  },
  "language_info": {
   "codemirror_mode": {
    "name": "ipython",
    "version": 3
   },
   "file_extension": ".py",
   "mimetype": "text/x-python",
   "name": "python",
   "nbconvert_exporter": "python",
   "pygments_lexer": "ipython3",
   "version": "3.12.3"
  }
 },
 "nbformat": 4,
 "nbformat_minor": 2
}
