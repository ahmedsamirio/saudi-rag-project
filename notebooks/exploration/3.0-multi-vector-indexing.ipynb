{
 "cells": [
  {
   "cell_type": "code",
   "execution_count": 1,
   "metadata": {},
   "outputs": [],
   "source": [
    "%load_ext autoreload\n",
    "%autoreload 2"
   ]
  },
  {
   "cell_type": "code",
   "execution_count": 2,
   "metadata": {},
   "outputs": [],
   "source": [
    "import sys\n",
    "\n",
    "sys.path.append('../../')"
   ]
  },
  {
   "cell_type": "code",
   "execution_count": 3,
   "metadata": {},
   "outputs": [],
   "source": [
    "from langchain_community.embeddings import HuggingFaceEmbeddings\n",
    "from langchain_community.vectorstores import Chroma\n",
    "from langchain.retrievers.multi_vector import MultiVectorRetriever\n",
    "from langchain.storage import LocalFileStore\n",
    "from langchain_text_splitters import RecursiveCharacterTextSplitter\n",
    "\n",
    "from src.ingestion import load_pdf\n",
    "\n",
    "import os\n",
    "import uuid\n",
    "\n",
    "import chromadb\n",
    "import pickle"
   ]
  },
  {
   "cell_type": "code",
   "execution_count": 4,
   "metadata": {},
   "outputs": [],
   "source": [
    "RAW_DOCS_PATH = \"../../data/raw\"\n",
    "PROCESSED_DOCS_PATH = \"../../data/processed\""
   ]
  },
  {
   "cell_type": "code",
   "execution_count": 5,
   "metadata": {},
   "outputs": [],
   "source": [
    "docs = [load_pdf(os.path.join(RAW_DOCS_PATH, f)) for f in os.listdir(RAW_DOCS_PATH)]"
   ]
  },
  {
   "cell_type": "code",
   "execution_count": 23,
   "metadata": {},
   "outputs": [],
   "source": [
    "persistent_client = chromadb.PersistentClient(path='../../data/chroma')"
   ]
  },
  {
   "cell_type": "code",
   "execution_count": 7,
   "metadata": {},
   "outputs": [],
   "source": [
    "def save_to_pickle(obj, filename):\n",
    "    with open(filename, \"wb\") as file:\n",
    "        pickle.dump(obj, file, pickle.HIGHEST_PROTOCOL)\n",
    "\n",
    "def load_from_pickle(filename):\n",
    "    with open(filename, \"rb\") as file:\n",
    "        return pickle.load(file)"
   ]
  },
  {
   "cell_type": "markdown",
   "metadata": {},
   "source": [
    "# Parent Child Retriever"
   ]
  },
  {
   "cell_type": "code",
   "execution_count": 31,
   "metadata": {},
   "outputs": [],
   "source": [
    "def get_parent_child_splits(docs, parent_chunk_size=1200, parent_chunk_overlap=400, child_chunk_size=300, child_chunk_overlap=0, id_key=\"parent_doc_id\"):\n",
    "    parent_splitter = RecursiveCharacterTextSplitter(\n",
    "            chunk_size=parent_chunk_size,\n",
    "            chunk_overlap=parent_chunk_overlap,\n",
    "            separators=['\\n\\n\\n', '\\n\\n', '\\n', r'\\.\\s+', ' ', '']\n",
    "    )\n",
    "\n",
    "    child_splitter = RecursiveCharacterTextSplitter(\n",
    "        chunk_size=child_chunk_size,\n",
    "        chunk_overlap=child_chunk_overlap,\n",
    "    )\n",
    "\n",
    "    parent_docs = parent_splitter.split_documents(docs)\n",
    "    parent_docs_ids = [str(uuid.uuid4()) for _ in parent_docs]\n",
    "\n",
    "    child_docs = []\n",
    "    for i, doc in enumerate(parent_docs):\n",
    "        _id = parent_docs_ids[i]\n",
    "        _child_docs = child_splitter.split_documents([doc])\n",
    "        for _doc in _child_docs:\n",
    "            _doc.metadata[id_key] = _id\n",
    "        child_docs.extend(_child_docs)\n",
    "\n",
    "    return parent_docs, parent_docs_ids, child_docs"
   ]
  },
  {
   "cell_type": "code",
   "execution_count": 44,
   "metadata": {},
   "outputs": [],
   "source": [
    "def get_embedding_function(model_name):\n",
    "    return HuggingFaceEmbeddings(model_name=model_name)\n",
    "\n",
    "def get_multivector_retriever(chroma_client, embedding_model_name, collection_name, save_path, parent_docs=[], parent_docs_ids=[], child_docs=[], id_key=\"parent_doc_id\"):\n",
    "    \n",
    "    # Create save directories\n",
    "    os.makedirs(os.path.join(save_path), exist_ok=True)\n",
    "    docstore_path = os.path.join(save_path, 'docstore', collection_name)\n",
    "    vectorstore_path = os.path.join(save_path, 'chroma')\n",
    "\n",
    "    # Get embedding_function\n",
    "    embedding_function = get_embedding_function(embedding_model_name)\n",
    "\n",
    "    vectorstore = Chroma(\n",
    "        client=chroma_client,\n",
    "        collection_name=collection_name,\n",
    "        embedding_function=embedding_function,\n",
    "        persist_directory=vectorstore_path\n",
    "    )\n",
    "\n",
    "    store = LocalFileStore(docstore_path)\n",
    "\n",
    "    # The retriever (empty to start)\n",
    "    retriever = MultiVectorRetriever(\n",
    "        vectorstore=vectorstore,\n",
    "        byte_store=store,\n",
    "        id_key=id_key,\n",
    "    )\n",
    "\n",
    "    # If vectorstore isn't populated, populate and persist\n",
    "    if not len(retriever.vectorstore.get()['documents']) == len(child_docs):\n",
    "\n",
    "        if child_docs:\n",
    "            retriever.vectorstore.add_documents(child_docs)\n",
    "            retriever.docstore.mset(list(zip(parent_docs_ids, parent_docs)))\n",
    "\n",
    "            # Save the vectorstore and docstore to disk\n",
    "            retriever.vectorstore.persist()\n",
    "\n",
    "    return retriever    "
   ]
  },
  {
   "cell_type": "code",
   "execution_count": 45,
   "metadata": {},
   "outputs": [
    {
     "name": "stderr",
     "output_type": "stream",
     "text": [
      "<>:1: SyntaxWarning: invalid escape sequence '\\A'\n",
      "<>:1: SyntaxWarning: invalid escape sequence '\\A'\n",
      "C:\\Users\\lenovo\\AppData\\Local\\Temp\\ipykernel_17300\\3935730633.py:1: SyntaxWarning: invalid escape sequence '\\A'\n",
      "  save_path = 'D:\\Ahmed\\saudi-rag-project\\data'\n"
     ]
    }
   ],
   "source": [
    "save_path = 'D:\\Ahmed\\saudi-rag-project\\data'"
   ]
  },
  {
   "cell_type": "code",
   "execution_count": 48,
   "metadata": {},
   "outputs": [
    {
     "name": "stdout",
     "output_type": "stream",
     "text": [
      "CPU times: total: 40.7 s\n",
      "Wall time: 24.9 s\n"
     ]
    }
   ],
   "source": [
    "%%time\n",
    "\n",
    "PARENT_CHUNK_SIZE = 1200\n",
    "PARENT_CHUNK_OVERLAP = 400\n",
    "\n",
    "CHILD_CHUNK_SIZE = 300\n",
    "CHILD_CHUNK_OVERLAP = 0\n",
    "\n",
    "EMBEDDING_MODEL_NAME = 'intfloat/multilingual-e5-small'\n",
    "\n",
    "COLLECTION_NAME = f\"PARENT_{PARENT_CHUNK_SIZE}_{PARENT_CHUNK_OVERLAP}_CHILD_{CHILD_CHUNK_SIZE}_{CHILD_CHUNK_OVERLAP}_{EMBEDDING_MODEL_NAME}\"\n",
    "COLLECTION_NAME = COLLECTION_NAME.replace('/', '_').replace('-', '_')\n",
    "\n",
    "parent_docs, parent_docs_ids, child_docs = get_parent_child_splits(docs)\n",
    "retriever = get_multivector_retriever(persistent_client, EMBEDDING_MODEL_NAME, COLLECTION_NAME, save_path, parent_docs, parent_docs_ids, child_docs)"
   ]
  },
  {
   "cell_type": "code",
   "execution_count": null,
   "metadata": {},
   "outputs": [],
   "source": []
  },
  {
   "cell_type": "code",
   "execution_count": null,
   "metadata": {},
   "outputs": [],
   "source": []
  },
  {
   "cell_type": "code",
   "execution_count": null,
   "metadata": {},
   "outputs": [],
   "source": []
  },
  {
   "cell_type": "code",
   "execution_count": null,
   "metadata": {},
   "outputs": [],
   "source": []
  },
  {
   "cell_type": "code",
   "execution_count": null,
   "metadata": {},
   "outputs": [],
   "source": []
  }
 ],
 "metadata": {
  "kernelspec": {
   "display_name": "saudi-rag-project",
   "language": "python",
   "name": "python3"
  },
  "language_info": {
   "codemirror_mode": {
    "name": "ipython",
    "version": 3
   },
   "file_extension": ".py",
   "mimetype": "text/x-python",
   "name": "python",
   "nbconvert_exporter": "python",
   "pygments_lexer": "ipython3",
   "version": "3.12.3"
  }
 },
 "nbformat": 4,
 "nbformat_minor": 2
}
