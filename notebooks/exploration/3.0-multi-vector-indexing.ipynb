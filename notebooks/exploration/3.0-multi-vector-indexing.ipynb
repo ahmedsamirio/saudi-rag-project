{
 "cells": [
  {
   "cell_type": "code",
   "execution_count": 1,
   "metadata": {},
   "outputs": [],
   "source": [
    "%load_ext autoreload\n",
    "%autoreload 2"
   ]
  },
  {
   "cell_type": "code",
   "execution_count": 2,
   "metadata": {},
   "outputs": [],
   "source": [
    "import sys\n",
    "\n",
    "sys.path.append('../../')"
   ]
  },
  {
   "cell_type": "code",
   "execution_count": 3,
   "metadata": {},
   "outputs": [],
   "source": [
    "from langchain_community.embeddings import HuggingFaceEmbeddings\n",
    "from langchain_community.vectorstores import Chroma\n",
    "from langchain.retrievers.multi_vector import MultiVectorRetriever\n",
    "from langchain.storage import LocalFileStore\n",
    "from langchain_text_splitters import RecursiveCharacterTextSplitter\n",
    "\n",
    "from src.ingestion import load_pdf\n",
    "\n",
    "import os\n",
    "import uuid\n",
    "\n",
    "import chromadb\n",
    "import pickle"
   ]
  },
  {
   "cell_type": "code",
   "execution_count": 4,
   "metadata": {},
   "outputs": [],
   "source": [
    "RAW_DOCS_PATH = \"../../data/raw\"\n",
    "PROCESSED_DOCS_PATH = \"../../data/processed\""
   ]
  },
  {
   "cell_type": "code",
   "execution_count": 5,
   "metadata": {},
   "outputs": [],
   "source": [
    "docs = [load_pdf(os.path.join(RAW_DOCS_PATH, f)) for f in os.listdir(RAW_DOCS_PATH)]"
   ]
  },
  {
   "cell_type": "code",
   "execution_count": 23,
   "metadata": {},
   "outputs": [],
   "source": [
    "persistent_client = chromadb.PersistentClient(path='../../data/chroma')"
   ]
  },
  {
   "cell_type": "code",
   "execution_count": 7,
   "metadata": {},
   "outputs": [],
   "source": [
    "def save_to_pickle(obj, filename):\n",
    "    with open(filename, \"wb\") as file:\n",
    "        pickle.dump(obj, file, pickle.HIGHEST_PROTOCOL)\n",
    "\n",
    "def load_from_pickle(filename):\n",
    "    with open(filename, \"rb\") as file:\n",
    "        return pickle.load(file)"
   ]
  },
  {
   "cell_type": "markdown",
   "metadata": {},
   "source": [
    "# Parent Child Retriever"
   ]
  },
  {
   "cell_type": "code",
   "execution_count": 31,
   "metadata": {},
   "outputs": [],
   "source": [
    "def get_parent_child_splits(docs, parent_chunk_size=1200, parent_chunk_overlap=400, child_chunk_size=300, child_chunk_overlap=0, id_key=\"parent_doc_id\"):\n",
    "    parent_splitter = RecursiveCharacterTextSplitter(\n",
    "            chunk_size=parent_chunk_size,\n",
    "            chunk_overlap=parent_chunk_overlap,\n",
    "            separators=['\\n\\n\\n', '\\n\\n', '\\n', r'\\.\\s+', ' ', '']\n",
    "    )\n",
    "\n",
    "    child_splitter = RecursiveCharacterTextSplitter(\n",
    "        chunk_size=child_chunk_size,\n",
    "        chunk_overlap=child_chunk_overlap,\n",
    "    )\n",
    "\n",
    "    parent_docs = parent_splitter.split_documents(docs)\n",
    "    parent_docs_ids = [str(uuid.uuid4()) for _ in parent_docs]\n",
    "\n",
    "    child_docs = []\n",
    "    for i, doc in enumerate(parent_docs):\n",
    "        _id = parent_docs_ids[i]\n",
    "        _child_docs = child_splitter.split_documents([doc])\n",
    "        for _doc in _child_docs:\n",
    "            _doc.metadata[id_key] = _id\n",
    "        child_docs.extend(_child_docs)\n",
    "\n",
    "    return parent_docs, parent_docs_ids, child_docs"
   ]
  },
  {
   "cell_type": "code",
   "execution_count": 33,
   "metadata": {},
   "outputs": [],
   "source": [
    "def get_multivector_retriever(chroma_client, embedding_function, collection_name, save_path, parent_docs=[], parent_docs_ids=[], child_docs=[], id_key=\"parent_doc_id\"):\n",
    "    \n",
    "    # Create save directories\n",
    "    os.makedirs(os.path.join(save_path), exist_ok=True)\n",
    "    docstore_path = os.path.join(save_path, 'docstore', collection_name)\n",
    "    vectorstore_path = os.path.join(save_path, 'chroma')\n",
    "\n",
    "    vectorstore = Chroma(\n",
    "        client=chroma_client,\n",
    "        collection_name=collection_name,\n",
    "        embedding_function=embedding_function,\n",
    "        persist_directory=vectorstore_path\n",
    "    )\n",
    "\n",
    "    store = LocalFileStore(docstore_path)\n",
    "\n",
    "    # The retriever (empty to start)\n",
    "    retriever = MultiVectorRetriever(\n",
    "        vectorstore=vectorstore,\n",
    "        byte_store=store,\n",
    "        id_key=id_key,\n",
    "    )\n",
    "\n",
    "    # If vectorstore isn't populated, populate and persist\n",
    "    if not len(retriever.vectorstore.get()['documents']) == len(child_docs):\n",
    "\n",
    "        if child_docs:\n",
    "            retriever.vectorstore.add_documents(child_docs)\n",
    "            retriever.docstore.mset(list(zip(parent_docs_ids, parent_docs)))\n",
    "\n",
    "            # Save the vectorstore and docstore to disk\n",
    "            retriever.vectorstore.persist()\n",
    "\n",
    "    return retriever    "
   ]
  },
  {
   "cell_type": "code",
   "execution_count": 17,
   "metadata": {},
   "outputs": [],
   "source": [
    "model_id = 'intfloat/multilingual-e5-small'\n",
    "embedding_function = HuggingFaceEmbeddings(model_name=model_id)"
   ]
  },
  {
   "cell_type": "code",
   "execution_count": 29,
   "metadata": {},
   "outputs": [
    {
     "name": "stderr",
     "output_type": "stream",
     "text": [
      "<>:1: SyntaxWarning: invalid escape sequence '\\A'\n",
      "<>:1: SyntaxWarning: invalid escape sequence '\\A'\n",
      "C:\\Users\\lenovo\\AppData\\Local\\Temp\\ipykernel_17300\\3935730633.py:1: SyntaxWarning: invalid escape sequence '\\A'\n",
      "  save_path = 'D:\\Ahmed\\saudi-rag-project\\data'\n"
     ]
    }
   ],
   "source": [
    "save_path = 'D:\\Ahmed\\saudi-rag-project\\data'"
   ]
  },
  {
   "cell_type": "code",
   "execution_count": 36,
   "metadata": {},
   "outputs": [
    {
     "name": "stdout",
     "output_type": "stream",
     "text": [
      "CPU times: total: 15.6 ms\n",
      "Wall time: 20.9 ms\n"
     ]
    }
   ],
   "source": [
    "%%time\n",
    "\n",
    "parent_docs, parent_docs_ids, child_docs = get_parent_child_splits(docs)\n",
    "retriever = get_multivector_retriever(persistent_client, embedding_function, \"parent_child_1\", save_path, parent_docs, parent_docs_ids, child_docs)"
   ]
  },
  {
   "cell_type": "code",
   "execution_count": 38,
   "metadata": {},
   "outputs": [],
   "source": [
    "retriever = get_multivector_retriever(persistent_client, embedding_function, \"parent_child_1\", save_path)"
   ]
  },
  {
   "cell_type": "code",
   "execution_count": 39,
   "metadata": {},
   "outputs": [
    {
     "data": {
      "text/plain": [
       "[Document(page_content='ﺑﻴﺎن أرﺑﺎح اﻟﻨﺘﺎﺋﺞ اﻟﻤﺎﻟﻴﺔ اﻟﺴﻨﻮﻳﺔ ﻟﻠﻌﺎم 2022م\\n26 ﻓﺒﺮاﻳﺮ 2023م\\nﻧﻈﺮة ﻋﻠﻰ ﻗﺎﺋﻤﺔ اﻟﺮﺑﺢ واﻟﺨﺴﺎرة\\nاﻟﻌﺎم اﻟﻤﺎﻟﻲ اﻟﻌﺎم اﻟﻤﺎﻟﻲ اﻟﺘﻐﻴﺮ %\\n)ﻣﻠﻴﻮن رﻳﺎل ﺳﻌﻮدي(\\n2022م 2021م )ﻋﻠﻰ أﺳﺎس ﺳﻨﻮي(\\nاﻹﻳﺮادات اﻟﺘﺸﻐﻴﻠﻴﺔ 1071.4 1166.1 %1.8 ▼\\nاﻟﻤﺼﺎرﻳﻒ اﻟﺘﺸﻐﻴﻠﻴﺔ 581.1 495.5 %3.71 ▲\\nاﻷرﺑﺎح ﻗﺒﻞ اﻟﻔﻮاﺋﺪ واﻟﻀﺮاﺋﺐ واﻻﺳﺘﻬﻼك واﻹﻃﻔﺎء (EBITDA) 490.3 670.6 %9.62 ▼\\nﻫﺎﻣﺶ ﻗﺒﻞ اﻟﻔﻮاﺋﺪ واﻟﻀﺮاﺋﺐ واﻻﺳﺘﻬﻼك واﻹﻃﻔﺎء (EBITDA) %64 %85\\nﻣﺼﺮوﻓﺎت اﻻﺳﺘﻬﻼك واﻹﻃﻔﺎء 63.2 57.0 %8.01 ▲\\nاﻷرﺑﺎح ﻗﺒﻞ اﺣﺘﺴﺎب ﻣﺼﺎرﻳﻒ اﻟﻔﻮاﺋﺪ واﻟﺰﻛﺎة واﻟﻀﺮاﺋﺐ (EBIT) 427.1 613.6 %4.03 ▼\\nﻫﺎﻣﺶ اﻷرﺑﺎح ﻗﺒﻞ اﺣﺘﺴﺎب ﻣﺼﺎرﻳﻒ اﻟﻔﻮاﺋﺪ واﻟﺰﻛﺎة واﻟﻀﺮاﺋﺐ (EBIT) %04 %35\\nإﻳﺮادات اﻻﺳﺘﺜﻤﺎرات وإﻳﺮادات أﺧﺮى 75.1 43.6 %1.27 ▲\\nاﻟﺨﺴﺎرة ﻣﻦ اﻟﺸﺮﻛﺎت اﻟﺰﻣﻴﻠﺔ )9.9( )3.3( %5.202 ▲\\nاﻟﺰﻛﺎة 67.7 66.2 %2.2 ▲\\nﺻﺎﻓﻲ اﻟﺮﺑﺢ ﺑﻌﺪ اﻟﺰﻛﺎة 424.6 587.7 %8.72 ▼\\nﻫﺎﻣﺶ ﺻﺎﻓﻲ اﻟﺮﺑﺢ ﺑﻌﺪ اﻟﺰﻛﺎة %04 %05\\nرﺑﺤﻴﺔ اﻟﺴﻬﻢ )رﻳﺎل ﺳﻌﻮدي( 3.54 4.90\\nﻧﻈﺮة ﻋﻠﻰ اﻟﻤﺮﻛﺰ اﻟﻤﺎﻟﻲ\\nاﻟﻌﺎم اﻟﻤﺎﻟﻲ اﻟﻌﺎم اﻟﻤﺎﻟﻲ اﻟﺘﻐﻴﺮ %\\n)ﻣﻠﻴﻮن رﻳﺎل ﺳﻌﻮدي(\\n2022م 2021م )ﻋﻠﻰ أﺳﺎس ﺳﻨﻮي(\\nاﻟﻨﻘﺪ وﻣﺎ ﻳﻌﺎدﻟﻪ 2118.8 86.2 %1.8532 ▲\\nاﻻﺳﺘﺜﻤﺎرات 674.4 2687.0 %9.47 ▼\\nأﺻﻮل أﺧﺮى 4896.8 770.1 %8.535 ▲\\nإﺟﻤﺎﻟﻲ اﻟﻤﻮﺟﻮدات 7690.0 3543.3 %0.711 ▲\\nإﺟﻤﺎﻟﻲ اﻟﻤﻄﻠﻮﺑﺎت 4510.4 450.9 %3.009 ▲\\nإﺟﻤﺎﻟﻲ ﺣﻘﻮق اﻟﻤﻠﻜﻴﺔ 3179.7 3092.4 %8.2 ▲\\n– اﻧﺘﻬﻰ -', metadata={'source': 'Press Release - 2022 Results (Stock Market)', 'file_path': '../../data/raw\\\\Press Release - 2022 Results (Stock Market).pdf'}),\n",
       " Document(page_content='رؤﻳﺔ اﻟﻤﻤﻠﻜﺔ 2030.\\nاﻟﺮﻳﺎض، اﻟﻤﻤﻠﻜﺔ اﻟﻌﺮﺑﻴﺔ اﻟﺴﻌﻮدﻳﺔ، 26 ﻓﺒﺮاﻳﺮ 2023م: أﻋﻠﻨﺖ ﺷﺮﻛﺔ ﻣﺠﻤﻮﻋﺔ ﺗﺪاول اﻟﺴﻌﻮدﻳﺔ اﻟﻘﺎﺑﻀﺔ\\n)\"اﻟﺸﺮﻛﺔ\" أو \"اﻟﻤﺠﻤﻮﻋﺔ\"(، اﻟﺮاﺋﺪة ﻓﻲ ﻣﺠﺎل اﻷﺳﻮاق اﻟﻤﺎﻟﻴﺔ ﻓﻲ ﻣﻨﻄﻘﺔ اﻟﺸﺮق اﻷوﺳﻂ وﺷﻤﺎل أﻓﺮﻳﻘﻴﺎ، ﻋﻦ\\nﻧﺘﺎﺋﺠﻬﺎ اﻟﻤﺎﻟﻴﺔ اﻟﺴﻨﻮﻳﺔ اﻟﻤﻨﺘﻬﻴﺔ ﻓﻲ 31 دﻳﺴﻤﺒﺮ 2022م .\\nأﺑﺮز ﻣﻼﻣﺢ اﻷداء اﻟﻤﺎﻟﻲ\\nﺣﻘﻘﺖ ﺷﺮﻛﺔ ﻣﺠﻤﻮﻋﺔ ﺗﺪاول اﻟﺴﻌﻮدﻳﺔ اﻟﻘﺎﺑﻀﺔ )\"اﻟﻤﺠﻤﻮﻋﺔ\"( ﺻﺎﻓﻲ رﺑﺢ ﺑﻌﺪ اﻟﺰﻛﺎة ﻟﻴﺒﻠﻎ 424.6 ﻣﻠﻴﻮن رﻳﺎل ﺳﻌﻮدي\\nﺧﻼل اﻟﻌﺎم 2022م، ﺑﺎﻧﺨﻔﺎض وﻗﺪره 27.8% ﻋﻠﻰ أﺳﺎس ﺳﻨﻮي ﻣﻘﺎرﻧﺔ ﺑ 587.7 ﻣﻠﻴﻮن رﻳﺎل ﺳﻌﻮدي ﻓﻲ اﻟﻌﺎم اﻟﺴﺎﺑﻖ\\n2021م، وﻳﻌﻮد ﺳﺒﺐ ﻫﺬا اﻻﻧﺨﻔﺎض ﺑﺸﻜﻞ رﺋﻴﺴﻲ إﻟﻰ:\\n• اﻧﺨﻔﻀﺖ اﻹﻳﺮادات اﻟﺘﺸﻐﻴﻠﻴﺔ ﺑﻨﺴﺒﺔ 8.1 % ﻋﻠﻰ أﺳﺎس ﺳﻨﻮي ﻟﺘﺼﻞ إﻟﻰ 1071.4 ﻣﻠﻴﻮن رﻳﺎل ﺳﻌﻮدي ﺧﻼل\\nاﻟﻌﺎم 2022م ﻣﻘﺎرﻧﺔ ﺑ1.661,1 ﻣﻠﻴﻮن رﻳﺎل ﺳﻌﻮدي ﻓﻲ اﻟﻌﺎم اﻟﺴﺎﺑﻖ 2021م، وﻳﻌﻮد ذﻟﻚ ﺑﺸﻜﻞ أﺳﺎﺳﻲ إﻟﻰ\\nاﻻﻧﺨﻔﺎض ﻓﻲ إﻳﺮادات اﻟﺘﺪاول وإﻳﺮادات ﺧﺪﻣﺎت ﻣﺎ ﺑﻌﺪ اﻟﺘﺪاول ﺑﺴﺒﺐ اﻧﺨﻔﺎض أﻧﺸﻄﺔ اﻟﺘﺪاول ﺑﻨﺴﺒﺔ 23.0%.\\n• ارﺗﻔﻌﺖ اﻟﻤﺼﺎرﻳﻒ اﻟﺘﺸﻐﻴﻠﻴﺔ ﺑﻨﺴﺒﺔ 16.6% ﻋﻠﻰ أﺳﺎس ﺳﻨﻮي ﻟﺘﺼﻞ إﻟﻰ 644.3 ﻣﻠﻴﻮن رﻳﺎل ﺳﻌﻮدي ﻓﻲ اﻟﻌﺎم\\n2022م ﻣﻘﺎرﻧﺔ ﺑ 552.5 ﻣﻠﻴﻮن رﻳﺎل ﺳﻌﻮدي ﻓﻲ اﻟﻌﺎم اﻟﺴﺎﺑﻖ 2021م، وﻳﻌﻮد ذﻟﻚ إﻟﻰ اﻻرﺗﻔﺎع ﻓﻲ ﺗﻜﺎﻟﻴﻒ اﻟﺮواﺗﺐ\\nواﻟﻤﻨﺎﻓﻊ اﻟﻤﺘﻌﻠﻘﺔ ﺑﻬﺎ، ﻣﺪﻓﻮﻋﺔ ﺑﺴﺒﺐ اﻟﺰﻳﺎدة ﻓﻲ أﻋﺪاد اﻟﻤﻮﻇﻔﻴﻦ وذﻟﻚ ﺣﺴﺐ ﺧﻄﺔ اﻟﻤﺠﻤﻮﻋﺔ.\\n• اﻧﺨﻔﻀﺖ اﻷرﺑﺎح ﻗﺒﻞ اﻟﻔﻮاﺋﺪ واﻟﻀﺮاﺋﺐ واﻻﺳﺘﻬﻼك واﻹﻃﻔﺎء (EBITDA) ﺑﻨﺴﺒﺔ 26.9% ﻋﻠﻰ أﺳﺎس ﺳﻨﻮي ﻟﺘﺼﻞ', metadata={'source': 'Press Release - 2022 Results (Stock Market)', 'file_path': '../../data/raw\\\\Press Release - 2022 Results (Stock Market).pdf'}),\n",
       " Document(page_content='ﺑﻴﺎن أرﺑﺎح اﻟﻨﺘﺎﺋﺞ اﻟﻤﺎﻟﻴﺔ اﻟﺴﻨﻮﻳﺔ ﻟﻠﻌﺎم 2022م\\n26 ﻓﺒﺮاﻳﺮ 2023م\\nﻣﺠﻤﻮﻋﺔ ﺗﺪاول اﻟﺴﻌﻮدﻳﺔ ﺗﻌﻠﻦ ﻋﻦ ﻧﺘﺎﺋﺠﻬﺎ اﻟﻤﺎﻟﻴﺔ اﻟﺴﻨﻮﻳﺔ ﻟﻠﻌﺎم 2022م وﺗﺤﻘﻖ ﺻﺎﻓﻲ رﺑﺢ\\nﺑﻌﺪ اﻟﺰﻛﺎة ﺑﻘﻴﻤﺔ 424.6 ﻣﻠﻴﻮن رﻳﺎل ﺳﻌﻮدي\\n• أﻋﻠﻨﺖ ﻣﺠﻤﻮﻋﺔ ﺗﺪاول اﻟﺴﻌﻮدﻳﺔ ﻋﻦ ﻣﺸﺎرﻛﺘﻬﺎ ﻣﻊ ﺻﻨﺪوق اﻻﺳﺘﺜﻤﺎرات اﻟﻌﺎﻣﺔ ﻓﻲ ﺗﺄﺳﻴﺲ ﺷﺮﻛﺔ ﺳﻮق\\nاﻟﻜﺮﺑﻮن اﻟﻄﻮﻋﻲ اﻻﻗﻠﻴﻤﻴﺔ .\\n• اﻛﺘﻤﺎل أول إدراج ﻣﺰدوج وﻣﺘﺰاﻣﻦ ﺑﻴﻦ ﺷﺮﻛﺔ ﺗﺪاول اﻟﺴﻌﻮدﻳﺔ وﺳﻮق أﺑﻮﻇﺒﻲ ﻟﻸوراق اﻟﻤﺎﻟﻴﺔ .\\n• وﻗﻌﺖ ﺷﺮﻛﺔ \"واﻣﺾ\"، إﺣﺪى اﻟﺸﺮﻛﺎت اﻟﺘﺎﺑﻌﺔ ﻟﻤﺠﻤﻮﻋﺔ ﺗﺪاول اﻟﺴﻌﻮدﻳﺔ، اﺗﻔﺎﻗﻴﺔ ﺑﻴﻊ وﺷﺮاء ﻣﻊ ﺷﺮﻛﺔ\\n\"اﻟﻤﺒﺎدرات اﻟﺜﺎﻧﻴﺔ ﻟﻼﺳﺘﺜﻤﺎر\" ﻟﻼﺳﺘﺤﻮاذ ﻋﻠﻰ 51% ﻣﻦ رأس اﻟﻤﺎل اﻟﻤﺼﺪر ﻟﺸﺮﻛﺔ ﺷﺒﻜﺔ ﻣﺒﺎﺷﺮ اﻟﻤﺎﻟﻴﺔ \"داﻳﺮﻛﺖ\\nإف إن\" .\\n• إﻃﻼق إﻃﺎر ﻋﻤﻞ ﺻﺎﻧﻊ اﻟﺴﻮق ﻷﺳﻮاق اﻷﺳﻬﻢ واﻟﻤﺸﺘﻘﺎت اﻟﻤﺎﻟﻴﺔ، ﻛﺠﺰء ﻣﻦ ﺟﻬﻮد ﺗﺪاول اﻟﺴﻌﻮدﻳﺔ ﻟﻀﻤﺎن\\nﺗﻮﻓﺮ اﻟﺴﻴﻮﻟﺔ وزﻳﺎدة ﻛﻔﺎءة ﺗﺤﺪﻳﺪ اﻷﺳﻌﺎر ﺗﻤﺎﺷﻴﺎ ﻣﻊ دﻋﻢ ﻧﻤﻮ اﻟﺴﻮق اﻟﻤﺎﻟﻴﺔ اﻟﺴﻌﻮدﻳﺔ ﺗﺤﻘﻴﻘﺎ ﻟﻤﺴﺘﻬﺪﻓﺎت\\nرؤﻳﺔ اﻟﻤﻤﻠﻜﺔ 2030.\\nاﻟﺮﻳﺎض، اﻟﻤﻤﻠﻜﺔ اﻟﻌﺮﺑﻴﺔ اﻟﺴﻌﻮدﻳﺔ، 26 ﻓﺒﺮاﻳﺮ 2023م: أﻋﻠﻨﺖ ﺷﺮﻛﺔ ﻣﺠﻤﻮﻋﺔ ﺗﺪاول اﻟﺴﻌﻮدﻳﺔ اﻟﻘﺎﺑﻀﺔ\\n)\"اﻟﺸﺮﻛﺔ\" أو \"اﻟﻤﺠﻤﻮﻋﺔ\"(، اﻟﺮاﺋﺪة ﻓﻲ ﻣﺠﺎل اﻷﺳﻮاق اﻟﻤﺎﻟﻴﺔ ﻓﻲ ﻣﻨﻄﻘﺔ اﻟﺸﺮق اﻷوﺳﻂ وﺷﻤﺎل أﻓﺮﻳﻘﻴﺎ، ﻋﻦ\\nﻧﺘﺎﺋﺠﻬﺎ اﻟﻤﺎﻟﻴﺔ اﻟﺴﻨﻮﻳﺔ اﻟﻤﻨﺘﻬﻴﺔ ﻓﻲ 31 دﻳﺴﻤﺒﺮ 2022م .\\nأﺑﺮز ﻣﻼﻣﺢ اﻷداء اﻟﻤﺎﻟﻲ\\nﺣﻘﻘﺖ ﺷﺮﻛﺔ ﻣﺠﻤﻮﻋﺔ ﺗﺪاول اﻟﺴﻌﻮدﻳﺔ اﻟﻘﺎﺑﻀﺔ )\"اﻟﻤﺠﻤﻮﻋﺔ\"( ﺻﺎﻓﻲ رﺑﺢ ﺑﻌﺪ اﻟﺰﻛﺎة ﻟﻴﺒﻠﻎ 424.6 ﻣﻠﻴﻮن رﻳﺎل ﺳﻌﻮدي', metadata={'source': 'Press Release - 2022 Results (Stock Market)', 'file_path': '../../data/raw\\\\Press Release - 2022 Results (Stock Market).pdf'})]"
      ]
     },
     "execution_count": 39,
     "metadata": {},
     "output_type": "execute_result"
    }
   ],
   "source": [
    "retriever.invoke(\"صافي الربح بعد الزكاة\")"
   ]
  },
  {
   "cell_type": "code",
   "execution_count": 40,
   "metadata": {},
   "outputs": [],
   "source": [
    "persistent_client.delete_collection(\"parent_child_1\")"
   ]
  },
  {
   "cell_type": "code",
   "execution_count": null,
   "metadata": {},
   "outputs": [],
   "source": []
  },
  {
   "cell_type": "code",
   "execution_count": null,
   "metadata": {},
   "outputs": [],
   "source": []
  },
  {
   "cell_type": "code",
   "execution_count": null,
   "metadata": {},
   "outputs": [],
   "source": []
  },
  {
   "cell_type": "code",
   "execution_count": null,
   "metadata": {},
   "outputs": [],
   "source": []
  },
  {
   "cell_type": "code",
   "execution_count": null,
   "metadata": {},
   "outputs": [],
   "source": []
  }
 ],
 "metadata": {
  "kernelspec": {
   "display_name": "saudi-rag-project",
   "language": "python",
   "name": "python3"
  },
  "language_info": {
   "codemirror_mode": {
    "name": "ipython",
    "version": 3
   },
   "file_extension": ".py",
   "mimetype": "text/x-python",
   "name": "python",
   "nbconvert_exporter": "python",
   "pygments_lexer": "ipython3",
   "version": "3.12.3"
  }
 },
 "nbformat": 4,
 "nbformat_minor": 2
}
