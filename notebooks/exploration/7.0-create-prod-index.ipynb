{
 "cells": [
  {
   "cell_type": "code",
   "execution_count": 1,
   "metadata": {},
   "outputs": [],
   "source": [
    "%load_ext autoreload\n",
    "%autoreload 2"
   ]
  },
  {
   "cell_type": "code",
   "execution_count": 2,
   "metadata": {},
   "outputs": [],
   "source": [
    "import sys\n",
    "\n",
    "sys.path.append('../../')"
   ]
  },
  {
   "cell_type": "code",
   "execution_count": 3,
   "metadata": {},
   "outputs": [],
   "source": [
    "from src.indexing import get_multivector_retriever, get_parent_child_splits\n",
    "from src.generation import QA_SYSTEM_PROMPT, QA_PROMPT, LLAMA_PROMPT_TEMPLATE, MIXTRAL_PROMPT_TEMPLATE\n",
    "from src.generation import get_model, format_docs, get_rag_chain\n",
    "from langchain_core.documents import Document\n",
    "\n",
    "from src.ingestion import load_pdf\n",
    "\n",
    "import os\n",
    "import chromadb\n",
    "import uuid\n",
    "import pickle"
   ]
  },
  {
   "cell_type": "code",
   "execution_count": 4,
   "metadata": {},
   "outputs": [],
   "source": [
    "from langchain_text_splitters import RecursiveCharacterTextSplitter\n",
    "from langchain_core.output_parsers import StrOutputParser\n",
    "from langchain_core.runnables import RunnablePassthrough\n",
    "\n",
    "from tqdm import tqdm"
   ]
  },
  {
   "cell_type": "code",
   "execution_count": 15,
   "metadata": {},
   "outputs": [
    {
     "name": "stderr",
     "output_type": "stream",
     "text": [
      "<>:1: SyntaxWarning: invalid escape sequence '\\A'\n",
      "<>:2: SyntaxWarning: invalid escape sequence '\\.'\n",
      "<>:4: SyntaxWarning: invalid escape sequence '\\.'\n",
      "<>:1: SyntaxWarning: invalid escape sequence '\\A'\n",
      "<>:2: SyntaxWarning: invalid escape sequence '\\.'\n",
      "<>:4: SyntaxWarning: invalid escape sequence '\\.'\n",
      "C:\\Users\\lenovo\\AppData\\Local\\Temp\\ipykernel_14096\\312670850.py:1: SyntaxWarning: invalid escape sequence '\\A'\n",
      "  DATA_PATH = 'D:\\Ahmed\\saudi-rag-project\\storage'\n",
      "C:\\Users\\lenovo\\AppData\\Local\\Temp\\ipykernel_14096\\312670850.py:2: SyntaxWarning: invalid escape sequence '\\.'\n",
      "  RAW_DOCS_PATH = os.path.join('..\\..\\data', \"raw\")\n",
      "C:\\Users\\lenovo\\AppData\\Local\\Temp\\ipykernel_14096\\312670850.py:4: SyntaxWarning: invalid escape sequence '\\.'\n",
      "  INTERIM_DATA_PATH = os.path.join('..\\..\\data', \"interim\")\n"
     ]
    }
   ],
   "source": [
    "DATA_PATH = 'D:\\Ahmed\\saudi-rag-project\\storage'\n",
    "RAW_DOCS_PATH = os.path.join('..\\..\\data', \"raw\")\n",
    "CHROMA_PATH = os.path.join(DATA_PATH, \"chroma\")\n",
    "INTERIM_DATA_PATH = os.path.join('..\\..\\data', \"interim\")\n",
    "\n",
    "EMBEDDING_MODEL_NAMES = [\n",
    "    \"intfloat/multilingual-e5-small\", \n",
    "    \"intfloat/multilingual-e5-base\", \n",
    "    \"text-embedding-3-small\", \n",
    "    \"text-embedding-3-large\",\n",
    "    \"text-embedding-ada-002\"\n",
    " ]\n",
    "MODEL_NAMES = [\"meta-llama/Llama-3-8b-chat-hf\", \"meta-llama/Llama-3-70b-chat-hf\", \"mistralai/Mixtral-8x22B-Instruct-v0.1\"]"
   ]
  },
  {
   "cell_type": "code",
   "execution_count": 16,
   "metadata": {},
   "outputs": [],
   "source": [
    "docs = [load_pdf(os.path.join(RAW_DOCS_PATH, f)) for f in os.listdir(RAW_DOCS_PATH) if \".pdf\" in f]"
   ]
  },
  {
   "cell_type": "code",
   "execution_count": 17,
   "metadata": {},
   "outputs": [],
   "source": [
    "# print(docs[1].page_content)"
   ]
  },
  {
   "cell_type": "code",
   "execution_count": 18,
   "metadata": {},
   "outputs": [],
   "source": [
    "persistent_client = chromadb.PersistentClient(path=CHROMA_PATH)"
   ]
  },
  {
   "cell_type": "code",
   "execution_count": 19,
   "metadata": {},
   "outputs": [],
   "source": [
    "parent_splitter = RecursiveCharacterTextSplitter(\n",
    "    chunk_size=1200,\n",
    "    chunk_overlap=400,\n",
    "    separators=['\\n\\n\\n', '\\n\\n', '\\n', r'\\.\\s+', ' ', '']\n",
    ")\n",
    "\n",
    "parent_docs = parent_splitter.split_documents(docs)\n",
    "# parent_docs_ids = [str(uuid.uuid4()) for _ in parent_docs]\n",
    "# pickle.dump(parent_docs_ids, open(os.path.join(INTERIM_DATA_PATH, \"parent_docs_ids\"), 'wb'))\n",
    "parent_docs_ids = pickle.load(open(os.path.join(INTERIM_DATA_PATH, \"parent_docs_ids\"), 'rb'))\n",
    "id_key = \"parent_doc_id\""
   ]
  },
  {
   "cell_type": "code",
   "execution_count": 20,
   "metadata": {},
   "outputs": [],
   "source": [
    "COLLECTIONS = [\n",
    "    \"PQ_SPLIT_ALL_text_embedding_3_small\",\n",
    "    \"PS_ALL_text_embedding_3_small\"\n",
    "]"
   ]
  },
  {
   "cell_type": "code",
   "execution_count": 21,
   "metadata": {},
   "outputs": [
    {
     "name": "stderr",
     "output_type": "stream",
     "text": [
      "100%|██████████| 3/3 [00:00<00:00, 42.66it/s]\n"
     ]
    }
   ],
   "source": [
    "all_questions_docs = []\n",
    "all_split_questions_docs = []\n",
    "all_summaries_docs = []\n",
    "\n",
    "for model_name in tqdm(MODEL_NAMES):\n",
    "\n",
    "    question_file = f\"PQ_COMB_{model_name.split('/')[-1].replace('-', '_').replace('/', '_')}\"\n",
    "    question_file_path = os.path.join(INTERIM_DATA_PATH, question_file)\n",
    "\n",
    "    split_question_file = f\"PQ_SPLIT_{model_name.split('/')[-1].replace('-', '_').replace('/', '_')}\"\n",
    "    split_question_file_path = os.path.join(INTERIM_DATA_PATH, split_question_file)\n",
    "\n",
    "    summary_file = f\"PS_{model_name.split('/')[-1].replace('-', '_').replace('/', '_')}\"\n",
    "    summary_file_path = os.path.join(INTERIM_DATA_PATH, summary_file)\n",
    "\n",
    "    question_docs = pickle.load(open(question_file_path, 'rb'))\n",
    "    split_question_docs = pickle.load(open(split_question_file_path, 'rb'))\n",
    "    summary_docs = pickle.load(open(summary_file_path, 'rb'))\n",
    "\n",
    "    all_questions_docs.extend(question_docs)\n",
    "    all_split_questions_docs.extend(split_question_docs)\n",
    "    all_summaries_docs.extend(summary_docs)\n",
    "\n",
    "    # for embedding_model_name in EMBEDDING_MODEL_NAMES:\n",
    "\n",
    "    #     if \"mistral\" in model_name:\n",
    "    #         model_name = model_name.split('/')[-1].replace('-', '_').replace('/', '_')[:13]\n",
    "    #     else:\n",
    "    #         model_name = model_name.split('/')[-1].replace('-', '_').replace('/', '_')\n",
    "\n",
    "    #     questions_collection_name = f\"PQ_COMB_{model_name}_{embedding_model_name.replace(\"-\", \"_\").replace(\"/\", \"_\")}\"\n",
    "    #     split_questions_collection_name = f\"PQ_SPLIT_{model_name}_{embedding_model_name.replace(\"-\", \"_\").replace(\"/\", \"_\")}\"\n",
    "    #     summary_collection_name = f\"PS_{model_name}_{embedding_model_name.replace(\"-\", \"_\").replace(\"/\", \"_\")}\"\n",
    "\n",
    "    #     if questions_collection_name not in persistent_client.list_collections():\n",
    "    #         print(\"Creating\", questions_collection_name)\n",
    "    #         _ = get_multivector_retriever(persistent_client, embedding_model_name, questions_collection_name, DATA_PATH, parent_docs=parent_docs, parent_docs_ids=parent_docs_ids, child_docs=question_docs, id_key=\"parent_doc_id\")\n",
    "        \n",
    "    #     if split_questions_collection_name not in persistent_client.list_collections():\n",
    "    #         print(\"Creating\", split_questions_collection_name)\n",
    "    #         _ = get_multivector_retriever(persistent_client, embedding_model_name, split_questions_collection_name, DATA_PATH, parent_docs=parent_docs, parent_docs_ids=parent_docs_ids, child_docs=split_question_docs, id_key=\"parent_doc_id\")\n",
    "        \n",
    "    #     if summary_collection_name not in persistent_client.list_collections():\n",
    "    #         print(\"Creating\", summary_collection_name)\n",
    "    #         _ = get_multivector_retriever(persistent_client, embedding_model_name, summary_collection_name, DATA_PATH, parent_docs=parent_docs, parent_docs_ids=parent_docs_ids, child_docs=summary_docs, id_key=\"parent_doc_id\")"
   ]
  },
  {
   "cell_type": "code",
   "execution_count": 22,
   "metadata": {},
   "outputs": [
    {
     "name": "stderr",
     "output_type": "stream",
     "text": [
      "  0%|          | 0/5 [00:00<?, ?it/s]c:\\Users\\lenovo\\miniconda3\\envs\\saudi-rag-project\\Lib\\site-packages\\langchain_core\\_api\\deprecation.py:119: LangChainDeprecationWarning: The class `OpenAIEmbeddings` was deprecated in LangChain 0.0.9 and will be removed in 0.2.0. An updated version of the class exists in the langchain-openai package and should be used instead. To use it run `pip install -U langchain-openai` and import as `from langchain_openai import OpenAIEmbeddings`.\n",
      "  warn_deprecated(\n",
      "100%|██████████| 5/5 [00:51<00:00, 10.32s/it]\n"
     ]
    }
   ],
   "source": [
    "for embedding_model_name in tqdm(EMBEDDING_MODEL_NAMES):\n",
    "\n",
    "    all_questions_collection_name = f\"PQ_COMB_ALL_{embedding_model_name.replace(\"-\", \"_\").replace(\"/\", \"_\")}\"\n",
    "    all_split_questions_collection_name = f\"PQ_SPLIT_ALL_{embedding_model_name.replace(\"-\", \"_\").replace(\"/\", \"_\")}\"\n",
    "    all_summary_collection_name = f\"PS_ALL_{embedding_model_name.replace(\"-\", \"_\").replace(\"/\", \"_\")}\"\n",
    "    all_collection_name = f\"PQS_ALL_{embedding_model_name.replace(\"-\", \"_\").replace(\"/\", \"_\")}\"\n",
    "\n",
    "    if all_questions_collection_name in persistent_client.list_collections():\n",
    "        persistent_client.delete_collection(all_questions_collection_name)\n",
    "\n",
    "    if all_split_questions_collection_name in persistent_client.list_collections():\n",
    "        persistent_client.delete_collection(all_split_questions_collection_name)\n",
    "\n",
    "    if all_summary_collection_name in persistent_client.list_collections():\n",
    "        persistent_client.delete_collection(all_summary_collection_name)\n",
    "\n",
    "    if all_collection_name in persistent_client.list_collections():\n",
    "        persistent_client.delete_collection(all_collection_name)\n",
    "\n",
    "    all_generated_docs = all_questions_docs + all_split_questions_docs + all_summaries_docs\n",
    "\n",
    "    if all_questions_collection_name in COLLECTIONS:\n",
    "        _ = get_multivector_retriever(persistent_client, embedding_model_name, all_questions_collection_name, DATA_PATH, parent_docs=parent_docs, parent_docs_ids=parent_docs_ids, child_docs=all_questions_docs, id_key=\"parent_doc_id\")\n",
    "\n",
    "    if all_split_questions_collection_name in COLLECTIONS: \n",
    "        _ = get_multivector_retriever(persistent_client, embedding_model_name, all_split_questions_collection_name, DATA_PATH, parent_docs=parent_docs, parent_docs_ids=parent_docs_ids, child_docs=all_split_questions_docs, id_key=\"parent_doc_id\")\n",
    "    \n",
    "    if all_summary_collection_name in COLLECTIONS:\n",
    "        _ = get_multivector_retriever(persistent_client, embedding_model_name, all_summary_collection_name, DATA_PATH, parent_docs=parent_docs, parent_docs_ids=parent_docs_ids, child_docs=all_summaries_docs, id_key=\"parent_doc_id\")\n",
    "    \n",
    "    if all_collection_name in COLLECTIONS:\n",
    "        _ = get_multivector_retriever(persistent_client, embedding_model_name, all_collection_name, DATA_PATH, parent_docs=parent_docs, parent_docs_ids=parent_docs_ids, child_docs=all_generated_docs, id_key=\"parent_doc_id\")"
   ]
  },
  {
   "cell_type": "code",
   "execution_count": null,
   "metadata": {},
   "outputs": [],
   "source": []
  },
  {
   "cell_type": "code",
   "execution_count": null,
   "metadata": {},
   "outputs": [],
   "source": []
  },
  {
   "cell_type": "code",
   "execution_count": null,
   "metadata": {},
   "outputs": [],
   "source": []
  },
  {
   "cell_type": "code",
   "execution_count": null,
   "metadata": {},
   "outputs": [],
   "source": []
  },
  {
   "cell_type": "code",
   "execution_count": null,
   "metadata": {},
   "outputs": [],
   "source": [
    "# parent_docs_ids"
   ]
  }
 ],
 "metadata": {
  "kernelspec": {
   "display_name": "saudi-rag-project",
   "language": "python",
   "name": "python3"
  },
  "language_info": {
   "codemirror_mode": {
    "name": "ipython",
    "version": 3
   },
   "file_extension": ".py",
   "mimetype": "text/x-python",
   "name": "python",
   "nbconvert_exporter": "python",
   "pygments_lexer": "ipython3",
   "version": "3.12.3"
  }
 },
 "nbformat": 4,
 "nbformat_minor": 2
}
